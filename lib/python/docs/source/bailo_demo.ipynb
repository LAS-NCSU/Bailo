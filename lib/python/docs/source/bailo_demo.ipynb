{
 "cells": [
  {
   "attachments": {},
   "cell_type": "markdown",
   "metadata": {},
   "source": [
    "# Using the Bailo module \n",
    "\n",
    "To connect to the API, you will need to authenticate the Bailo client.  \n",
    "\n",
    "\n",
    "For Cognito authentication:\n",
    "```\n",
    "from bailoclient import Bailo, BailoConfig, CognitoConfig\n",
    "\n",
    "auth = CognitoConfig(\n",
    "    username=\"username\",\n",
    "    password=\"password\",\n",
    "    user_pool_id=\"user-pool-id\",\n",
    "    client_id=\"client-id\",\n",
    "    client_secret=\"secret\",\n",
    "    region=\"region\",\n",
    ")\n",
    "bailo = Bailo(\n",
    "    config=BailoConfig(\n",
    "        auth=auth,\n",
    "        bailo_url=\"https://bailo.io\",\n",
    "        ca_cert=\"path/to/ca\",\n",
    "    )\n",
    ")\n",
    "```\n",
    "\n",
    "For PKI authentication:\n",
    "```\n",
    "from bailoclient import Bailo, BailoConfig, Pkcs12Config\n",
    "\n",
    "auth = Pkcs12Config(\n",
    "    pkcs12_filename=\"path/to/file.pem\",\n",
    "    pkcs12_password=\"password\"\n",
    ")\n",
    "bailo = Bailo(\n",
    "    config=BailoConfig(\n",
    "        auth=auth,\n",
    "        bailo_url=\"https://bailo.io\",\n",
    "        ca_cert=\"path/to/ca\",\n",
    "    )\n",
    ")\n",
    "```\n",
    "\n",
    "\n",
    "If you don't need a client and just want to make use of model loading/bundling functionality:\n",
    "\n",
    "```\n",
    "from bailoclient import Bailo, BailoConfig, Pkcs12Config\n",
    "\n",
    "bailo = Bailo(\n",
    "    config=BailoConfig(auth=None, bailo_url=\"none\")\n",
    ")\n",
    "```\n"
   ]
  },
  {
   "attachments": {},
   "cell_type": "markdown",
   "metadata": {},
   "source": [
    "# Example workflow\n",
    "\n",
    "This example workflow will demonstrate the capability of the Python client for interacting with Bailo, as well as its automated model bundling and loading functionality.\n",
    "\n",
    "It is assumed that you have a valid .env file configured (see the README for more information).\n",
    "\n",
    "You will need to have sklearn installed in your Python environment to generate the test model. "
   ]
  },
  {
   "cell_type": "code",
   "execution_count": null,
   "metadata": {},
   "outputs": [],
   "source": [
    "# !pip install -U scikit-learn"
   ]
  },
  {
   "attachments": {},
   "cell_type": "markdown",
   "metadata": {},
   "source": [
    "#### Create a simple model\n",
    "\n",
    "We will use sklearn to create a basic model trained on the Iris dataset. The model returns predictions as a numeric label."
   ]
  },
  {
   "cell_type": "code",
   "execution_count": null,
   "metadata": {},
   "outputs": [],
   "source": [
    "from sklearn import datasets\n",
    "from sklearn.svm import SVC\n",
    "\n",
    "iris = datasets.load_iris()\n",
    "clf = SVC()\n",
    "clf.fit(iris.data, iris.target)"
   ]
  },
  {
   "attachments": {},
   "cell_type": "markdown",
   "metadata": {},
   "source": [
    "#### Bundle the required model files\n",
    "\n",
    "Bailo's model bundling functionality can handle much of the process for you. All you need to provide is the model 'flavour' (i.e. the package that the model was produced with)\n",
    "\n",
    "* Generates the requirements.txt file based on an input directory/module/notebook file\n",
    "* Gets the corresponding model.py template (**warning** most of these are currently untested)\n",
    "* Saves your model (many of the bundler flavours available make use of MLflow to save models - you may need this installed to make use of some of the bundler functionality)\n",
    "* Organises your files into code and binary zip folders\n",
    "\n",
    "The sklearn bundler does not require MLflow and will export your model to a .pkl file for you."
   ]
  },
  {
   "cell_type": "code",
   "execution_count": null,
   "metadata": {},
   "outputs": [],
   "source": [
    "from bailoclient import Bailo, Pkcs12Config, BailoConfig\n",
    "\n",
    "bailo_url = \"...\"\n",
    "auth = Pkcs12Config(...)\n",
    "bailo = Bailo(config=BailoConfig(auth=auth, bailo_url=bailo_url))"
   ]
  },
  {
   "cell_type": "markdown",
   "metadata": {},
   "source": [
    "To check what flavours are available for bundling/loading:"
   ]
  },
  {
   "cell_type": "code",
   "execution_count": null,
   "metadata": {},
   "outputs": [],
   "source": [
    "bailo.flavours"
   ]
  },
  {
   "cell_type": "code",
   "execution_count": null,
   "metadata": {},
   "outputs": [],
   "source": [
    "output_path = \"./sklearn_example\"\n",
    "\n",
    "bailo.bundle_model(model=clf, output_path=output_path, model_flavour=\"sklearn\")"
   ]
  },
  {
   "attachments": {},
   "cell_type": "markdown",
   "metadata": {},
   "source": [
    "#### Upload the bundled model files\n",
    "\n",
    "To upload the model, we need to provide metadata, or the model card. \n",
    "\n",
    "There is a minimal amount of metadata that must be provided that you can look at via the Bailo client. We will set a name, description and overview for our model before uploading it via the client."
   ]
  },
  {
   "cell_type": "code",
   "execution_count": null,
   "metadata": {},
   "outputs": [],
   "source": [
    "model_binary = f\"{output_path}/binary.zip\"\n",
    "model_code = f\"{output_path}/code.zip\"\n",
    "\n",
    "# set some of the metadata for the model\n",
    "model_metadata = bailo.minimal_metadata\n",
    "model_metadata[\"highLevelDetails\"][\"name\"] = \"sklearn model\"\n",
    "model_metadata[\"highLevelDetails\"][\"modelInASentence\"] = \"predicts iris data\"\n",
    "model_metadata[\"highLevelDetails\"][\n",
    "    \"modelOverview\"\n",
    "] = \"sklearn model to predict iris data\"\n",
    "\n",
    "# upload the model\n",
    "uploaded_model = bailo.upload_model(\n",
    "    metadata=model_metadata,\n",
    "    binary_file=model_binary,\n",
    "    code_file=model_code,\n",
    ")"
   ]
  },
  {
   "attachments": {},
   "cell_type": "markdown",
   "metadata": {},
   "source": [
    "#### Check the model has been uploaded\n",
    "\n",
    "Use the client to retrieve all of your models - you should have a model called sklearn-model-xxxxxx"
   ]
  },
  {
   "cell_type": "code",
   "execution_count": null,
   "metadata": {},
   "outputs": [],
   "source": [
    "user_models = bailo.get_my_models()\n",
    "\n",
    "for model in user_models:\n",
    "    print(model.uuid)"
   ]
  },
  {
   "attachments": {},
   "cell_type": "markdown",
   "metadata": {},
   "source": [
    "#### Update the model with a new version of the binary\n",
    "\n",
    "As your model is developed over time you will want to upload new versions. \n",
    "\n",
    "In this case, we want to improve our model by having it return strings of the actual classification labels instead of just a numeric value for its predictions.\n",
    "\n",
    "We will update the model to do this:"
   ]
  },
  {
   "cell_type": "code",
   "execution_count": null,
   "metadata": {},
   "outputs": [],
   "source": [
    "clf = SVC()\n",
    "\n",
    "clf.fit(iris.data, iris.target_names[iris.target])"
   ]
  },
  {
   "attachments": {},
   "cell_type": "markdown",
   "metadata": {},
   "source": [
    "When we have the updated model we can zip the binary file. We'll skip the Bailo bundling step because we haven't updated any of the code files. Instead we'll create a new binary zip file with our new model pkl file"
   ]
  },
  {
   "cell_type": "code",
   "execution_count": null,
   "metadata": {},
   "outputs": [],
   "source": [
    "import pickle\n",
    "import zipfile\n",
    "import os\n",
    "\n",
    "os.makedirs(f\"{output_path}/new_binary\", exist_ok=True)\n",
    "\n",
    "with open(f\"{output_path}/new_binary/model.pkl\", \"wb\") as f:\n",
    "    pickle.dump(clf, f)\n",
    "\n",
    "zipfile.ZipFile(f\"{output_path}/new_binary/binary.zip\", mode=\"w\").write(\n",
    "    f\"{output_path}/new_binary/model.pkl\", arcname=\"model.pkl\"\n",
    ")"
   ]
  },
  {
   "attachments": {},
   "cell_type": "markdown",
   "metadata": {},
   "source": [
    "#### Update the model metadata\n",
    "\n",
    "We can get the metadata from the model card we retrieved when we called bailo.get_my_models(). We can look at the metadata by calling the display function.\n",
    "\n",
    "You may also want to see which fields are accessible in the model card:\n",
    "\n",
    "```\n",
    "    dir(model_card)\n",
    "```\n",
    "\n",
    "Or to look at the validation schema for the model (which should give an indication of which metadata fields are expected and what they should look like):\n",
    "```\n",
    "    schema = bailo.get_model_schema(model_uuid)\n",
    "```"
   ]
  },
  {
   "cell_type": "code",
   "execution_count": null,
   "metadata": {},
   "outputs": [],
   "source": [
    "model_card = user_models[0]\n",
    "\n",
    "model_card.display()"
   ]
  },
  {
   "attachments": {},
   "cell_type": "markdown",
   "metadata": {},
   "source": [
    "#### Update the required fields on the model card\n",
    "\n",
    "As a minimum you will need to update the model version number"
   ]
  },
  {
   "cell_type": "code",
   "execution_count": null,
   "metadata": {},
   "outputs": [],
   "source": [
    "# get model and required fields for updating (UUID and metadata)\n",
    "model_card = user_models[0]\n",
    "model_uuid = model_card.uuid\n",
    "metadata = model_card.latestVersion.metadata\n",
    "\n",
    "\n",
    "# update some of the metadata fields for the new model version\n",
    "metadata.highLevelDetails.name = f\"Updated sklearn model\"\n",
    "metadata.highLevelDetails.modelCardVersion = \"v2.0\""
   ]
  },
  {
   "attachments": {},
   "cell_type": "markdown",
   "metadata": {},
   "source": [
    "#### Validate the model card\n",
    "\n",
    "Check that all the fields that we have provided are valid input"
   ]
  },
  {
   "cell_type": "code",
   "execution_count": null,
   "metadata": {},
   "outputs": [],
   "source": [
    "result = model_card.validate()\n",
    "for error in result.errors:\n",
    "    print(f\"{error.field}: {error.description}\")"
   ]
  },
  {
   "attachments": {},
   "cell_type": "markdown",
   "metadata": {},
   "source": [
    "#### Push the new model version up to Bailo"
   ]
  },
  {
   "cell_type": "code",
   "execution_count": null,
   "metadata": {},
   "outputs": [],
   "source": [
    "update_resp = bailo.update_model(\n",
    "    metadata=metadata,\n",
    "    model_uuid=model_uuid,\n",
    "    binary_file=f\"{output_path}/new_binary/binary.zip\",\n",
    "    code_file=f\"{output_path}/code.zip\",  # code is unchanged, but must still be provided\n",
    ")"
   ]
  },
  {
   "attachments": {},
   "cell_type": "markdown",
   "metadata": {},
   "source": [
    "#### Check that the model has been updated\n",
    "\n",
    "Get a new list of user models and identify the most recently uploaded model. Check that the latest version of this model has the expected name"
   ]
  },
  {
   "cell_type": "code",
   "execution_count": null,
   "metadata": {},
   "outputs": [],
   "source": [
    "user_models = bailo.get_models()\n",
    "latest_model = user_models[0]\n",
    "\n",
    "latest_model.latestVersion.metadata.highLevelDetails.name"
   ]
  },
  {
   "attachments": {},
   "cell_type": "markdown",
   "metadata": {},
   "source": [
    "#### Request a deployment\n",
    "\n",
    "To request a deployment, we have to provide metadata relating to the deployment request.\n",
    "\n",
    "You can access the minimal deployment metadata on the Bailo interface in the same way as we accessed the minimal model metadata. "
   ]
  },
  {
   "cell_type": "code",
   "execution_count": null,
   "metadata": {},
   "outputs": [],
   "source": [
    "deployment_metadata = bailo.minimal_deployment_metadata\n",
    "deployment_metadata"
   ]
  },
  {
   "attachments": {},
   "cell_type": "markdown",
   "metadata": {},
   "source": [
    "Let's edit this metadata to request a deployment for our model\n",
    "\n",
    "* Give the deployment a name\n",
    "* Give the model an end date of tomorrow (end date is not a required field)\n",
    "* Link the deployment request to the model we are requesting via the model UUID\n",
    "* Set the owner to be the current user"
   ]
  },
  {
   "cell_type": "code",
   "execution_count": null,
   "metadata": {},
   "outputs": [],
   "source": [
    "import datetime\n",
    "\n",
    "# name the deployment\n",
    "deployment_metadata[\"highLevelDetails\"][\"name\"] = \"sklearn test deployment\"\n",
    "\n",
    "# set end date to tomorrow\n",
    "end_date = str(datetime.date.today() + datetime.timedelta(days=1))\n",
    "deployment_metadata[\"highLevelDetails\"][\"endDate\"][\"date\"] = end_date\n",
    "\n",
    "# set model ID to our new model's uuid\n",
    "deployment_metadata[\"highLevelDetails\"][\"modelID\"] = model_uuid\n",
    "\n",
    "# set owner to current user id\n",
    "deployment_metadata[\"contacts\"][\"owner\"][0][\"id\"] = bailo.get_me().id\n",
    "\n",
    "deployment_metadata"
   ]
  },
  {
   "cell_type": "code",
   "execution_count": null,
   "metadata": {},
   "outputs": [],
   "source": [
    "deployment_request = bailo.request_deployment(deployment_metadata)"
   ]
  },
  {
   "attachments": {},
   "cell_type": "markdown",
   "metadata": {},
   "source": [
    "#### Download the model files for a deployment\n",
    "\n",
    "With an **approved** deployment you can request to download the model files. \n",
    "\n",
    "To carry out this step you will need your deployment request to be approved. Deployment requests cannot be approved via the Python module. \n",
    "\n",
    "By default the download_model_files function will download both the model binary and code. To specify either binary or code download, use e.g. file_type='binary'"
   ]
  },
  {
   "cell_type": "code",
   "execution_count": null,
   "metadata": {},
   "outputs": [],
   "source": [
    "deployment_uuid = deployment_request[\"uuid\"]\n",
    "model_version = latest_model.latestVersion.metadata.highLevelDetails.modelCardVersion\n",
    "\n",
    "bailo.download_model_files(\n",
    "    deployment_uuid=deployment_uuid,\n",
    "    model_version=model_version,\n",
    "    output_dir=f\"{output_path}/downloaded_model\",\n",
    ")"
   ]
  },
  {
   "attachments": {},
   "cell_type": "markdown",
   "metadata": {},
   "source": [
    "#### Load the model into memory\n",
    "\n",
    "With the model files downloaded we can use the sklearn loader function to automatically load the model object into memory - we now have a sklearn SVC model loaded. "
   ]
  },
  {
   "cell_type": "code",
   "execution_count": null,
   "metadata": {},
   "outputs": [],
   "source": [
    "loaded_model = bailo.load_model(\n",
    "    f\"{output_path}/downloaded_model/model.pkl\", model_flavour=\"sklearn\"\n",
    ")\n",
    "type(loaded_model)"
   ]
  },
  {
   "attachments": {},
   "cell_type": "markdown",
   "metadata": {},
   "source": [
    "#### Run some predictions\n",
    "\n",
    "Finally, we can run some predictions on the model and see that the model binary has been updated to return the labels of the predictions. "
   ]
  },
  {
   "cell_type": "code",
   "execution_count": null,
   "metadata": {},
   "outputs": [],
   "source": [
    "loaded_model.predict(iris.data)"
   ]
  }
 ],
 "metadata": {
  "language_info": {
   "codemirror_mode": {
    "name": "ipython",
    "version": 3
   },
   "file_extension": ".py",
   "mimetype": "text/x-python",
   "name": "python",
   "nbconvert_exporter": "python",
   "pygments_lexer": "ipython3",
   "version": "3.7.16"
  },
  "vscode": {
   "interpreter": {
    "hash": "31f2aee4e71d21fbe5cf8b01ff0e069b9275f58929596ceb00d14d90e3e16cd6"
   }
  }
 },
 "nbformat": 4,
 "nbformat_minor": 2
}
